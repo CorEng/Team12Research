{
 "cells": [
  {
   "cell_type": "code",
   "execution_count": 1,
   "metadata": {},
   "outputs": [],
   "source": [
    "#Import\n",
    "import time\n",
    "import mysql.connector\n",
    "import os\n",
    "import requests as r\n",
    "import pandas as pd\n",
    "from pandas import DataFrame\n",
    "import numpy as np\n",
    "from sklearn.svm import SVR\n",
    "import matplotlib.pyplot as plt\n",
    "import pickle\n",
    "from sklearn.model_selection import TimeSeriesSplit\n",
    "from sklearn.preprocessing import StandardScaler\n",
    "from sklearn.model_selection import train_test_split\n",
    "from sklearn import metrics\n",
    "from sklearn.model_selection import cross_validate\n",
    "from sklearn.model_selection import cross_val_score \n",
    "from sklearn.tree import export_graphviz\n",
    "from sklearn.tree import DecisionTreeClassifier\n",
    "from sklearn.ensemble import RandomForestClassifier"
   ]
  },
  {
   "cell_type": "code",
   "execution_count": 27,
   "metadata": {},
   "outputs": [],
   "source": [
    "def dev_finder(zones):\n",
    "    start= time.time()\n",
    "    val_list = []\n",
    "    validator = open(\"validation.txt\", \"r\")\n",
    "    for line in validator:\n",
    "        val_list.append(line.rstrip())\n",
    "\n",
    "    mydb = mysql.connector.connect(\n",
    "      host=val_list[0],\n",
    "      user=val_list[1],\n",
    "      passwd=val_list[2],\n",
    "      database=val_list[3],\n",
    "      port=val_list[4]\n",
    "    )\n",
    "    quart_dict = {}\n",
    "    for i in zones:\n",
    "        mycursor = mydb.cursor()\n",
    "        sql = \"\"\"SELECT COUNT(*) as nr FROM team12dublinbus.final where zone = \"\"\" +str(1)+\"\"\";\"\"\"\n",
    "        mycursor.execute(sql)\n",
    "        result_list = []\n",
    "        rand_no = 0\n",
    "        for (r) in mycursor:\n",
    "            rand_no = str(round(10000/int(r[0]), 4))\n",
    "            \n",
    "        print(\"Received number interval from DB for zone {0}\".format(i))\n",
    "        print(\"Receiving dataframe for zone {0}\".format(i))\n",
    "        \n",
    "        mycursor = mydb.cursor()\n",
    "        sql = \"\"\"SELECT travel_time\n",
    "        FROM team12dublinbus.final\n",
    "        WHERE zone = \"\"\"+str(i)+\"\"\" and RAND() < \"\"\"+str(rand_no)+\"\"\";\"\"\"\n",
    "        mycursor.execute(sql)\n",
    "        \n",
    "        print(\"Received dataframe for zone {0}. Processing frame...\".format(i))\n",
    "        result_list = []\n",
    "        for (l) in mycursor:\n",
    "            result_list.extend([l])\n",
    "        \n",
    "        frame = DataFrame.from_records(result_list)\n",
    "        frame.columns = ['time_of_day']\n",
    "        \n",
    "        quart_dict[\"zone_{0}\".format(i)] = [frame.time_of_day.quantile([0.15,0.5,0.85]).values[0],frame.time_of_day.quantile([0.15,0.5,0.85]).values[1],frame.time_of_day.quantile([0.15,0.5,0.85]).values[2]]\n",
    "    return(quart_dict)\n",
    "        "
   ]
  },
  {
   "cell_type": "code",
   "execution_count": 28,
   "metadata": {},
   "outputs": [
    {
     "name": "stdout",
     "output_type": "stream",
     "text": [
      "Received number interval from DB for zone 1\n",
      "Receiving dataframe for zone 1\n",
      "Received dataframe for zone 1. Processing frame...\n",
      "Received number interval from DB for zone 2\n",
      "Receiving dataframe for zone 2\n",
      "Received dataframe for zone 2. Processing frame...\n",
      "Received number interval from DB for zone 3\n",
      "Receiving dataframe for zone 3\n",
      "Received dataframe for zone 3. Processing frame...\n",
      "Received number interval from DB for zone 4\n",
      "Receiving dataframe for zone 4\n",
      "Received dataframe for zone 4. Processing frame...\n",
      "Received number interval from DB for zone 5\n",
      "Receiving dataframe for zone 5\n",
      "Received dataframe for zone 5. Processing frame...\n",
      "Received number interval from DB for zone 6\n",
      "Receiving dataframe for zone 6\n",
      "Received dataframe for zone 6. Processing frame...\n",
      "Received number interval from DB for zone 7\n",
      "Receiving dataframe for zone 7\n",
      "Received dataframe for zone 7. Processing frame...\n",
      "Received number interval from DB for zone 8\n",
      "Receiving dataframe for zone 8\n",
      "Received dataframe for zone 8. Processing frame...\n",
      "Received number interval from DB for zone 9\n",
      "Receiving dataframe for zone 9\n",
      "Received dataframe for zone 9. Processing frame...\n",
      "Received number interval from DB for zone 10\n",
      "Receiving dataframe for zone 10\n",
      "Received dataframe for zone 10. Processing frame...\n",
      "Received number interval from DB for zone 11\n",
      "Receiving dataframe for zone 11\n",
      "Received dataframe for zone 11. Processing frame...\n"
     ]
    }
   ],
   "source": [
    "result = dev_finder([\"1\",\"2\",\"3\",\"4\",\"5\",\"6\",\"7\",\"8\",\"9\",\"10\",\"11\"])"
   ]
  },
  {
   "cell_type": "code",
   "execution_count": 17,
   "metadata": {},
   "outputs": [
    {
     "data": {
      "text/plain": [
       "{'zone_12': [19.0, 27.0]}"
      ]
     },
     "execution_count": 17,
     "metadata": {},
     "output_type": "execute_result"
    }
   ],
   "source": [
    "result"
   ]
  },
  {
   "cell_type": "code",
   "execution_count": 5,
   "metadata": {},
   "outputs": [],
   "source": [
    "with open('1-11.pickle', 'wb') as handle:\n",
    "    pickle.dump(result, handle, protocol=pickle.HIGHEST_PROTOCOL)"
   ]
  },
  {
   "cell_type": "code",
   "execution_count": 18,
   "metadata": {},
   "outputs": [],
   "source": [
    "\n",
    "\n",
    "with open('1-11.pickle', 'rb') as handle:\n",
    "    dict = pickle.load(handle)"
   ]
  },
  {
   "cell_type": "code",
   "execution_count": null,
   "metadata": {},
   "outputs": [],
   "source": [
    "'zone_12': [19.0, 27.0]"
   ]
  },
  {
   "cell_type": "code",
   "execution_count": 19,
   "metadata": {},
   "outputs": [
    {
     "data": {
      "text/plain": [
       "{'zone_1': [70.0, 284.0],\n",
       " 'zone_2': [32.0, 112.0],\n",
       " 'zone_3': [21.0, 75.0],\n",
       " 'zone_4': [15.0, 58.0],\n",
       " 'zone_5': [8.0, 95.0],\n",
       " 'zone_6': [65.19999999999999, 70.1],\n",
       " 'zone_7': [7.6, 11.4],\n",
       " 'zone_8': [5.0, 94.0],\n",
       " 'zone_9': [81.75, 104.65],\n",
       " 'zone_10': [1.0, 98.55000000000001],\n",
       " 'zone_11': [51.0, 75.6]}"
      ]
     },
     "execution_count": 19,
     "metadata": {},
     "output_type": "execute_result"
    }
   ],
   "source": [
    "dict"
   ]
  },
  {
   "cell_type": "code",
   "execution_count": 20,
   "metadata": {},
   "outputs": [],
   "source": [
    "dict[\"zone_12\"] = [19.0, 27.0]"
   ]
  },
  {
   "cell_type": "code",
   "execution_count": 21,
   "metadata": {},
   "outputs": [
    {
     "data": {
      "text/plain": [
       "{'zone_1': [70.0, 284.0],\n",
       " 'zone_2': [32.0, 112.0],\n",
       " 'zone_3': [21.0, 75.0],\n",
       " 'zone_4': [15.0, 58.0],\n",
       " 'zone_5': [8.0, 95.0],\n",
       " 'zone_6': [65.19999999999999, 70.1],\n",
       " 'zone_7': [7.6, 11.4],\n",
       " 'zone_8': [5.0, 94.0],\n",
       " 'zone_9': [81.75, 104.65],\n",
       " 'zone_10': [1.0, 98.55000000000001],\n",
       " 'zone_11': [51.0, 75.6],\n",
       " 'zone_12': [19.0, 27.0]}"
      ]
     },
     "execution_count": 21,
     "metadata": {},
     "output_type": "execute_result"
    }
   ],
   "source": [
    "dict"
   ]
  },
  {
   "cell_type": "code",
   "execution_count": 22,
   "metadata": {},
   "outputs": [],
   "source": [
    "with open('variance.pickle', 'wb') as handle:\n",
    "    pickle.dump(dict, handle, protocol=pickle.HIGHEST_PROTOCOL)"
   ]
  },
  {
   "cell_type": "code",
   "execution_count": null,
   "metadata": {},
   "outputs": [],
   "source": []
  }
 ],
 "metadata": {
  "kernelspec": {
   "display_name": "Python 3",
   "language": "python",
   "name": "python3"
  },
  "language_info": {
   "codemirror_mode": {
    "name": "ipython",
    "version": 3
   },
   "file_extension": ".py",
   "mimetype": "text/x-python",
   "name": "python",
   "nbconvert_exporter": "python",
   "pygments_lexer": "ipython3",
   "version": "3.7.3"
  }
 },
 "nbformat": 4,
 "nbformat_minor": 2
}
