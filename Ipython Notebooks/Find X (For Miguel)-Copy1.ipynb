{
 "cells": [
  {
   "cell_type": "code",
   "execution_count": 5,
   "metadata": {},
   "outputs": [],
   "source": [
    "#Import\n",
    "from googleplaces import GooglePlaces, types, lang\n",
    "from itertools import tee\n",
    "import geopy.distance\n",
    "import re"
   ]
  },
  {
   "cell_type": "code",
   "execution_count": 6,
   "metadata": {},
   "outputs": [],
   "source": [
    "#Define Sample Data\n",
    "stopslist = [[53.34661194, -6.291976111],[53.34661194, -6.291976111],[53.34700306, -6.284663889],[51.425977, -0.338690]]"
   ]
  },
  {
   "cell_type": "code",
   "execution_count": 7,
   "metadata": {},
   "outputs": [],
   "source": [
    "#Define find_x function\n",
    "\n",
    "#Searches for desired amenity in vicinity of provided coordinates\n",
    "\n",
    "def find_x(coords,x):\n",
    "    API_key = ''#enter Google Maps API key\n",
    "    google_places = GooglePlaces(API_key)\n",
    "\n",
    "    stored_results = {}\n",
    "    for i in coords:\n",
    "        temp_dic = {}\n",
    "        results = google_places.nearby_search(\n",
    "                lat_lng={'lat': i[0], 'lng': i[1]}, \n",
    "                radius=1000,   \n",
    "                keyword=x)\n",
    "        for item in results.places:\n",
    "            name = re.search('Place name=\"(.*)\"', str(item))\n",
    "            lat = re.search('lat=(.*),', str(item))\n",
    "            lng = re.search('lng=(.*)>', str(item))\n",
    "            temp_dic[str([name.group(1),lat.group(1),lng.group(1)])] = geopy.distance.distance(i,str(lat.group(1)) + \", \"+ str(lng.group(1)))\n",
    "        try:\n",
    "            stored_results[str(eval(min(temp_dic, key=temp_dic.get))[0])] = str(eval(min(temp_dic, key=temp_dic.get))[1:3])\n",
    "        except:\n",
    "            print(\"Can't get a min - probably an empty results list\")\n",
    "    try:  \n",
    "        return(min(stored_results, key=stored_results.get),stored_results[min(stored_results, key=stored_results.get)])\n",
    "    except:\n",
    "        return(\"Nothing returned - probably no results from any point\")"
   ]
  },
  {
   "cell_type": "code",
   "execution_count": 8,
   "metadata": {},
   "outputs": [
    {
     "data": {
      "text/plain": [
       "('Tesco Metro', \"['51.4258353', '-0.3386093']\")"
      ]
     },
     "execution_count": 8,
     "metadata": {},
     "output_type": "execute_result"
    }
   ],
   "source": [
    "find_x(stopslist,\"Tesco\")"
   ]
  },
  {
   "cell_type": "code",
   "execution_count": null,
   "metadata": {},
   "outputs": [],
   "source": []
  }
 ],
 "metadata": {
  "kernelspec": {
   "display_name": "Python 3",
   "language": "python",
   "name": "python3"
  },
  "language_info": {
   "codemirror_mode": {
    "name": "ipython",
    "version": 3
   },
   "file_extension": ".py",
   "mimetype": "text/x-python",
   "name": "python",
   "nbconvert_exporter": "python",
   "pygments_lexer": "ipython3",
   "version": "3.7.3"
  }
 },
 "nbformat": 4,
 "nbformat_minor": 2
}
