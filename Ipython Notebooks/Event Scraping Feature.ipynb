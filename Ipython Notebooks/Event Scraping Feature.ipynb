{
 "cells": [
  {
   "cell_type": "code",
   "execution_count": 110,
   "metadata": {},
   "outputs": [],
   "source": [
    "#Function\n",
    "def cardreturn():\n",
    "    import re\n",
    "    from bs4 import BeautifulSoup\n",
    "    import requests\n",
    "    cardlist = []\n",
    "    site = requests.get('https://dublin.ie/whats-on/').text\n",
    "    soupsite = BeautifulSoup(site, 'lxml')\n",
    "    cards = soupsite.findAll(\"article\", {\"class\": \"event card\"})\n",
    "    for i in cards:\n",
    "        templist = []\n",
    "        try:\n",
    "            templist.append(i.find(\"h2\").text) #Name\n",
    "            templist.append(re.search(\"url\\(\\'(.*)\\'\\)\",i.find(\"div\", {\"class\": \"img\"})[\"style\"]).group(1)) #Image URL\n",
    "            templist.append(i.find(\"a\", {\"class\": \"read-more\"})[\"href\"]) #Link to more info\n",
    "            cardlist.append(templist)\n",
    "        except:\n",
    "            cardlist.append(\"ERROR\")\n",
    "    return cardlist"
   ]
  },
  {
   "cell_type": "code",
   "execution_count": 113,
   "metadata": {},
   "outputs": [
    {
     "data": {
      "text/plain": [
       "'https://dublin.ie/whats-on/listings/rush-harbour-festival/'"
      ]
     },
     "execution_count": 113,
     "metadata": {},
     "output_type": "execute_result"
    }
   ],
   "source": [
    "cardreturn()[1][2]"
   ]
  },
  {
   "cell_type": "code",
   "execution_count": null,
   "metadata": {},
   "outputs": [],
   "source": []
  }
 ],
 "metadata": {
  "kernelspec": {
   "display_name": "Python 3",
   "language": "python",
   "name": "python3"
  },
  "language_info": {
   "codemirror_mode": {
    "name": "ipython",
    "version": 3
   },
   "file_extension": ".py",
   "mimetype": "text/x-python",
   "name": "python",
   "nbconvert_exporter": "python",
   "pygments_lexer": "ipython3",
   "version": "3.7.3"
  }
 },
 "nbformat": 4,
 "nbformat_minor": 2
}
