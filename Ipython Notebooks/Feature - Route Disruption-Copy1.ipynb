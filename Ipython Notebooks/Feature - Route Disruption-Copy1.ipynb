{
 "cells": [
  {
   "cell_type": "code",
   "execution_count": 1,
   "metadata": {},
   "outputs": [],
   "source": [
    "## Component will check dublin bus twitter for last 24 hours, check the disruption hashtag, and retrieve tweets relevant to selected route\n",
    "###Note - \"due to\" used in tweets for large events\n",
    "###Note - lower case letters for route searching\n",
    "\n"
   ]
  },
  {
   "cell_type": "code",
   "execution_count": 46,
   "metadata": {},
   "outputs": [],
   "source": [
    "def notification_check(route):\n",
    "    from tweepy import OAuthHandler\n",
    "    from tweepy import API\n",
    "    from tweepy import Cursor\n",
    "    from datetime import datetime, date, time, timedelta\n",
    "    from collections import Counter\n",
    "    import sys\n",
    "    #These are my twitter access tokens - I will revoke after project\n",
    "    ACCESS_TOKEN = ''\n",
    "    ACCESS_SECRET = ''\n",
    "    CONSUMER_KEY = ''\n",
    "    CONSUMER_SECRET = ''\n",
    "    \n",
    "    auth = OAuthHandler(CONSUMER_KEY, CONSUMER_SECRET)\n",
    "    auth.set_access_token(ACCESS_TOKEN, ACCESS_SECRET)\n",
    "    auth_api = API(auth)\n",
    "    \n",
    "    end_date = datetime.utcnow() - timedelta(days=2)\n",
    "    tweetlist=[]\n",
    "    for status in Cursor(auth_api.user_timeline, id=\"@dublinbusnews\").items():\n",
    "        if \"#DBSvcUpdate\" in status.text:  \n",
    "            if (\"#DB\" + route) in status.text:\n",
    "                tweetlist.append(status.text)\n",
    "            if \"due to\" in status.text:\n",
    "                tweetlist.append(status.text)\n",
    "        if status.created_at < end_date:\n",
    "            break\n",
    "    return(tweetlist)"
   ]
  },
  {
   "cell_type": "code",
   "execution_count": 48,
   "metadata": {},
   "outputs": [
    {
     "data": {
      "text/plain": [
       "[\"#DBSvcUpdate Diversions due to Rock'n'Roll Half Marathon, Sunday 11 August 2019 https://t.co/6ibD3bkE8e https://t.co/d1PakFr6m0\"]"
      ]
     },
     "execution_count": 48,
     "metadata": {},
     "output_type": "execute_result"
    }
   ],
   "source": [
    "notification_check(\"46a\")"
   ]
  },
  {
   "cell_type": "code",
   "execution_count": null,
   "metadata": {},
   "outputs": [],
   "source": []
  }
 ],
 "metadata": {
  "kernelspec": {
   "display_name": "Python 3",
   "language": "python",
   "name": "python3"
  },
  "language_info": {
   "codemirror_mode": {
    "name": "ipython",
    "version": 3
   },
   "file_extension": ".py",
   "mimetype": "text/x-python",
   "name": "python",
   "nbconvert_exporter": "python",
   "pygments_lexer": "ipython3",
   "version": "3.7.3"
  }
 },
 "nbformat": 4,
 "nbformat_minor": 2
}
