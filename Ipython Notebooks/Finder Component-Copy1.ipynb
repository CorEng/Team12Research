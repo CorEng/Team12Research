{
 "cells": [
  {
   "cell_type": "code",
   "execution_count": 4,
   "metadata": {},
   "outputs": [],
   "source": [
    "#Import\n",
    "import pandas as pd\n",
    "from googleplaces import GooglePlaces, types, lang\n",
    "from itertools import tee"
   ]
  },
  {
   "cell_type": "code",
   "execution_count": 5,
   "metadata": {},
   "outputs": [],
   "source": []
  },
  {
   "cell_type": "code",
   "execution_count": 6,
   "metadata": {},
   "outputs": [],
   "source": []
  },
  {
   "cell_type": "code",
   "execution_count": 17,
   "metadata": {},
   "outputs": [
    {
     "name": "stdout",
     "output_type": "stream",
     "text": [
      "1\n",
      "2\n",
      "3\n"
     ]
    }
   ],
   "source": [
    "stopslist = []\n",
    "i = 0\n",
    "for index, row in stops.iterrows():\n",
    "    if i < 40:\n",
    "        stopslist.append(row[\"startcoords\"])\n",
    "        i += 1\n",
    "        print(i)\n",
    "    else: \n",
    "        break\n",
    "        "
   ]
  },
  {
   "cell_type": "code",
   "execution_count": 8,
   "metadata": {},
   "outputs": [],
   "source": [
    "#X-finder"
   ]
  },
  {
   "cell_type": "code",
   "execution_count": 20,
   "metadata": {},
   "outputs": [
    {
     "name": "stdout",
     "output_type": "stream",
     "text": [
      "<Place name=\"Tesco Express\", lat=53.3426372, lng=-6.278583299999999>\n",
      "<Place name=\"Tesco Metro\", lat=53.3560906, lng=-6.2868565>\n"
     ]
    }
   ],
   "source": [
    "#Searches for desired amenity in vicinity of \n",
    "\n",
    "def find_x(coords,x)\n",
    "    API_key = ''#enter Google Maps API key\n",
    "    google_places = GooglePlaces(API_key)\n",
    "\n",
    "    results = google_places.nearby_search(\n",
    "            lat_lng={'lat': 53.34661194, 'lng': -6.291976111}, \n",
    "            radius=1000,   \n",
    "            keyword='Tesco')\n",
    "\n",
    "    for item in results.places:\n",
    "        print(item)"
   ]
  },
  {
   "cell_type": "code",
   "execution_count": 18,
   "metadata": {},
   "outputs": [
    {
     "data": {
      "text/plain": [
       "['53.34661194, -6.291976111',\n",
       " '53.34661194, -6.291976111',\n",
       " '53.34700306, -6.284663889']"
      ]
     },
     "execution_count": 18,
     "metadata": {},
     "output_type": "execute_result"
    }
   ],
   "source": [
    "stopslist"
   ]
  },
  {
   "cell_type": "code",
   "execution_count": null,
   "metadata": {},
   "outputs": [],
   "source": []
  }
 ],
 "metadata": {
  "kernelspec": {
   "display_name": "Python 3",
   "language": "python",
   "name": "python3"
  },
  "language_info": {
   "codemirror_mode": {
    "name": "ipython",
    "version": 3
   },
   "file_extension": ".py",
   "mimetype": "text/x-python",
   "name": "python",
   "nbconvert_exporter": "python",
   "pygments_lexer": "ipython3",
   "version": "3.7.3"
  }
 },
 "nbformat": 4,
 "nbformat_minor": 2
}
