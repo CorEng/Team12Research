{
 "cells": [
  {
   "cell_type": "code",
   "execution_count": 5,
   "metadata": {},
   "outputs": [],
   "source": [
    "import mysql.connector\n",
    "import os\n",
    "import requests as r\n",
    "import json\n",
    "from pandas import DataFrame\n",
    "from datetime import date\n",
    "import numpy as np\n",
    "\n",
    "import holidays\n",
    "\n",
    "def lookup():\n",
    "    val_list = []\n",
    "    validator = open(\"validation.txt\", \"r\")\n",
    "    for line in validator:\n",
    "        val_list.append(line.rstrip())\n",
    "\n",
    "    mydb = mysql.connector.connect(\n",
    "      host=val_list[0],\n",
    "      user=val_list[1],\n",
    "      passwd=val_list[2],\n",
    "      database=val_list[3]\n",
    "    )\n",
    "\n",
    "    mycursor = mydb.cursor()\n",
    "    result_list = []\n",
    "\n",
    "    sql = \"SELECT dayofservice,tripid,progrnumber,stoppointid,actualtime_arr,actualtime_dep FROM team12db.leavetimes order by tripid LIMIT 0,10000;\"\n",
    "    mycursor.execute(sql)\n",
    "\n",
    "    for (i) in mycursor:\n",
    "        result_list.extend([i])\n",
    "    frame = DataFrame.from_records(result_list)\n",
    "    frame.columns = [\"Date\",\"Trip_ID\",\"Prog_No\",\"Stop_ID\",\"Arr_Time\",\"Dep_Time\"]\n",
    "    return frame\n",
    "\n",
    "DFRAME = lookup()\n",
    "DFRAME.to_csv(\"10kleavetimes.csv\")"
   ]
  },
  {
   "cell_type": "code",
   "execution_count": null,
   "metadata": {},
   "outputs": [],
   "source": []
  }
 ],
 "metadata": {
  "kernelspec": {
   "display_name": "Python 3",
   "language": "python",
   "name": "python3"
  },
  "language_info": {
   "codemirror_mode": {
    "name": "ipython",
    "version": 3
   },
   "file_extension": ".py",
   "mimetype": "text/x-python",
   "name": "python",
   "nbconvert_exporter": "python",
   "pygments_lexer": "ipython3",
   "version": "3.7.3"
  }
 },
 "nbformat": 4,
 "nbformat_minor": 2
}
